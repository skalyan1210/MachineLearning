{
 "cells": [
  {
   "cell_type": "code",
   "execution_count": 3,
   "metadata": {},
   "outputs": [
    {
     "name": "stderr",
     "output_type": "stream",
     "text": [
      "/anaconda3/lib/python3.6/site-packages/h5py/__init__.py:36: FutureWarning: Conversion of the second argument of issubdtype from `float` to `np.floating` is deprecated. In future, it will be treated as `np.float64 == np.dtype(float).type`.\n",
      "  from ._conv import register_converters as _register_converters\n",
      "Using TensorFlow backend.\n",
      "/anaconda3/lib/python3.6/importlib/_bootstrap.py:219: RuntimeWarning: compiletime version 3.5 of module 'tensorflow.python.framework.fast_tensor_util' does not match runtime version 3.6\n",
      "  return f(*args, **kwds)\n"
     ]
    }
   ],
   "source": [
    "import keras\n",
    "from keras.datasets import mnist\n",
    "from keras.layers import Dense\n",
    "from keras.models import Sequential\n",
    "import pickle\n",
    "import gzip\n",
    "import numpy as np\n",
    "from random import shuffle\n",
    "from sklearn.metrics import confusion_matrix\n",
    "from PIL import Image\n",
    "import os\n",
    "from sklearn.svm import SVC\n",
    "from sklearn.ensemble import RandomForestClassifier"
   ]
  },
  {
   "cell_type": "code",
   "execution_count": 4,
   "metadata": {},
   "outputs": [],
   "source": [
    "def One_to_N(target):\n",
    "    T = [[0 for i in range(10)] for i in range(len(target))]\n",
    "    for i in range(len(T)):\n",
    "        j = target[i]\n",
    "        T[i][j] =1\n",
    "    return T\n",
    "def decode(Y):\n",
    "    l=[]\n",
    "    for i in range(len(Y)):\n",
    "        l.append(np.argmax(Y[i]))\n",
    "    return l\n",
    "def Get_Acc(Y,target):\n",
    "    Y =np.array(Y)\n",
    "    target=np.array(target)\n",
    "    accuracy = 0.0\n",
    "    counter = 0\n",
    "    for i in range(len(Y)):\n",
    "            if np.argmax(Y[i]) == target[i]:\n",
    "                counter= counter+1\n",
    "    accuracy = (float((counter)*100)/float(len(Y)))\n",
    "    return accuracy\n",
    "\n",
    "def Get_Acc_new(Y,target):\n",
    "    Y =np.array(Y)\n",
    "    target=np.array(target)\n",
    "    accuracy = 0.0\n",
    "    counter = 0\n",
    "    for i in range(len(Y)):\n",
    "            if Y[i] == target[i]:\n",
    "                counter= counter+1\n",
    "    accuracy = (float((counter)*100)/float(len(Y)))\n",
    "    return accuracy\n",
    "\n",
    "def gradiant(x,t,y):\n",
    "    error = y -t\n",
    "    return np.dot(x.T,error)/len(x)\n",
    "\n",
    "def softmax(A):\n",
    "    sum = [0 for i in range(len(A))]\n",
    "    for i in range(len(A)):\n",
    "        for j in range(len(A[0])):\n",
    "            A[i][j] = np.exp(A[i][j])\n",
    "            sum[i] = sum[i]+A[i][j]\n",
    "    for i in range(len(A)):\n",
    "        for j in range(len(A[0])):\n",
    "            A[i][j] = A[i][j]/sum[i]\n",
    "    return A"
   ]
  },
  {
   "cell_type": "code",
   "execution_count": 107,
   "metadata": {},
   "outputs": [],
   "source": [
    "def logistic_regression_new(train_target,train_data,test_data,test_target_real):\n",
    "    W = [[0 for i in range(len(train_data[0]))] for j in range(10)]\n",
    "    W= np.array(np.matrix(W))\n",
    "    L_Acc = []\n",
    "    batch =500\n",
    "    for i in range(50):\n",
    "        for j in range(int(len(train_data)/batch)):\n",
    "            train_data3 = train_data[j*batch:(j+1)*batch]\n",
    "            train_target3 = train_target[j*batch:(j+1)*batch]\n",
    "            A = np.dot(train_data3,W.T)\n",
    "            Y = softmax(A)\n",
    "            grad = gradiant(train_data3,train_target3,Y)\n",
    "            Delta_W = 0.01*grad\n",
    "            W_now = W - np.transpose(Delta_W)\n",
    "            W = W_now\n",
    "        A1 = np.dot(test_data,W.T)\n",
    "        Y1 = softmax(A1)\n",
    "        F= decode(Y1)\n",
    "        Acc = Get_Acc(Y1,test_target_real)\n",
    "        L_Acc.append(float(Acc))\n",
    "    print(\"confusion matrix\\n\")\n",
    "    print(confusion_matrix(F, test_target_real))\n",
    "    print(\"\\n\")\n",
    "    print (\"Accuracy = \" + str(np.around(max(L_Acc),5))) \n",
    "    return Y1"
   ]
  },
  {
   "cell_type": "code",
   "execution_count": 6,
   "metadata": {},
   "outputs": [],
   "source": [
    "filename = 'mnist.pkl.gz'\n",
    "f = gzip.open(filename, 'rb')\n",
    "training_data, validation_data, test_data = pickle.load(f, encoding='latin1')\n",
    "f.close()"
   ]
  },
  {
   "cell_type": "code",
   "execution_count": 7,
   "metadata": {},
   "outputs": [],
   "source": [
    "USPSMat  = []\n",
    "USPSTar  = []\n",
    "curPath  = 'USPSdata/Numerals'\n",
    "savedImg = []\n",
    "for j in range(0,10):\n",
    "    curFolderPath = curPath + '/' + str(j)\n",
    "    imgs =  os.listdir(curFolderPath)\n",
    "    for img in imgs:\n",
    "        curImg = curFolderPath + '/' + img\n",
    "        if curImg[-3:] == 'png':\n",
    "            img = Image.open(curImg,'r')\n",
    "            img = img.resize((28, 28))\n",
    "            savedImg = img\n",
    "            imgdata = (255-np.array(img.getdata()))/255\n",
    "            USPSMat.append(imgdata)\n",
    "            USPSTar.append(j)"
   ]
  },
  {
   "cell_type": "code",
   "execution_count": 8,
   "metadata": {},
   "outputs": [
    {
     "name": "stdout",
     "output_type": "stream",
     "text": [
      "(50000, 784)\n"
     ]
    }
   ],
   "source": [
    "training_data1 = np.array(np.matrix(training_data[0]))\n",
    "training_target1 = training_data[1]\n",
    "validation_data1 = np.matrix(validation_data[0])\n",
    "validation_target1 = validation_data[1]\n",
    "testing_data1 = np.matrix(test_data[0])\n",
    "testing_target1 = test_data[1]\n",
    "training_target1=training_target1\n",
    "print(training_data1.shape)"
   ]
  },
  {
   "cell_type": "code",
   "execution_count": 9,
   "metadata": {
    "scrolled": true
   },
   "outputs": [
    {
     "name": "stdout",
     "output_type": "stream",
     "text": [
      "[0 0 0 1 0 0 0 0 0 0]\n"
     ]
    }
   ],
   "source": [
    "training_data2= np.array(training_data1)\n",
    "validation_data2 = np.array(validation_data1)\n",
    "testing_data2 = np.array(np.matrix(testing_data1))\n",
    "training_target2 = np.array(One_to_N(training_target1))\n",
    "testing_target2 = np.array(One_to_N(testing_target1))\n",
    "validation_target2 = np.array(One_to_N(validation_target1))\n",
    "USPS_Tar1 = USPSTar\n",
    "USPS_Data = np.array(USPSMat)\n",
    "USPS_target = np.array(One_to_N(USPSTar))\n",
    "print(validation_target2[0])"
   ]
  },
  {
   "cell_type": "code",
   "execution_count": 10,
   "metadata": {},
   "outputs": [
    {
     "name": "stdout",
     "output_type": "stream",
     "text": [
      "confusion matrix\n",
      "\n",
      "[[ 956    0   11    5    2   15   16    3    9   13]\n",
      " [   0 1102    7    1    6    6    3   20   10    8]\n",
      " [   3    2  888   18    5    6    6   29   10    6]\n",
      " [   3    4   19  898    0   43    2    4   29   11]\n",
      " [   0    1   15    1  901   15   13   11    8   43]\n",
      " [   2    2    0   32    0  726   16    0   26   16]\n",
      " [   8    4   17    6   10   17  897    0   12    0]\n",
      " [   1    0   21   15    2   10    1  918   13   24]\n",
      " [   7   20   45   22    8   43    4    4  840    6]\n",
      " [   0    0    9   12   48   11    0   39   17  882]]\n",
      "\n",
      "\n",
      "Accuracy = 90.08\n"
     ]
    }
   ],
   "source": [
    "MNIST_predictions = logistic_regression_new(training_target2, training_data2, testing_data2,testing_target1)"
   ]
  },
  {
   "cell_type": "code",
   "execution_count": 11,
   "metadata": {},
   "outputs": [
    {
     "name": "stdout",
     "output_type": "stream",
     "text": [
      "confusion matrix\n",
      "\n",
      "[[ 601  234  219  108   65  182  380  198  226   52]\n",
      " [   4  298   25    3   86   20   13  213   30  188]\n",
      " [ 375  126 1176  121   36  214  346  318  146  164]\n",
      " [  56  350  138 1259   62  184  106  450  208  470]\n",
      " [ 255  286   67   21 1028   45  105   74  127  155]\n",
      " [ 111   52   75  236  120 1031  218   78  573   84]\n",
      " [ 104   41   93   31   41  126  698   35  119   15]\n",
      " [  42  299   93   58  128   72   25  300   43  365]\n",
      " [ 147  296   90  103  292   89   75  287  444  339]\n",
      " [ 305   18   23   60  142   37   34   47   84  168]]\n",
      "\n",
      "\n",
      "Accuracy = 35.01675\n"
     ]
    }
   ],
   "source": [
    "USPS_predictions = logistic_regression_new(training_target2, training_data2,USPS_Data,USPS_Tar1)"
   ]
  },
  {
   "cell_type": "code",
   "execution_count": null,
   "metadata": {},
   "outputs": [],
   "source": [
    "#neural network"
   ]
  },
  {
   "cell_type": "code",
   "execution_count": 12,
   "metadata": {},
   "outputs": [],
   "source": [
    "x_train = np.array(np.matrix(training_data[0]))\n",
    "y_train = training_data[1]\n",
    "x_test = np.matrix(test_data[0])\n",
    "y_test = test_data[1]"
   ]
  },
  {
   "cell_type": "code",
   "execution_count": 13,
   "metadata": {},
   "outputs": [],
   "source": [
    "num_classes=10\n",
    "image_vector_size=28*28\n",
    "x_train = x_train.reshape(x_train.shape[0], image_vector_size)\n",
    "x_test = x_test.reshape(x_test.shape[0], image_vector_size)\n",
    "y_train = keras.utils.to_categorical(y_train, num_classes)\n",
    "y_test = keras.utils.to_categorical(y_test, num_classes)\n",
    "image_size = 784 \n",
    "model = Sequential()\n",
    "model.add(Dense(units=32, activation='sigmoid', input_shape=(image_size,)))\n",
    "model.add(Dense(units=num_classes, activation='softmax'))\n",
    "model.compile(optimizer='sgd', loss='categorical_crossentropy',metrics=['accuracy'])\n",
    "history = model.fit(x_train, y_train, batch_size=124, epochs=1000, verbose=False,validation_split=.2)\n",
    "loss_MNSIT,accuracy_MNSIT = model.evaluate(x_test,y_test, verbose=False)"
   ]
  },
  {
   "cell_type": "code",
   "execution_count": 90,
   "metadata": {},
   "outputs": [
    {
     "name": "stdout",
     "output_type": "stream",
     "text": [
      "Accuracy = 95.93\n",
      "[[ 965    0    6    0    1    6    9    2    6    6]\n",
      " [   0 1121    4    1    1    2    3    6    3    6]\n",
      " [   1    2  982   12    3    0    3   16    2    1]\n",
      " [   1    1    6  968    1   15    0    9    9   10]\n",
      " [   0    0    9    1  943    1    5    1    5   25]\n",
      " [   4    1    3    8    0  838   10    0    8    7]\n",
      " [   7    5    6    2    6   12  925    0    7    0]\n",
      " [   1    2    9    8    1    2    0  981    4    7]\n",
      " [   1    3    5    8    2   10    3    1  926    3]\n",
      " [   0    0    2    2   24    6    0   12    4  944]]\n"
     ]
    }
   ],
   "source": [
    "print(\"Accuracy = \"+str(accuracy_MNSIT*100))\n",
    "result= model.predict(x_test)\n",
    "print(confusion_matrix(decode(result), decode(y_test)))"
   ]
  },
  {
   "cell_type": "code",
   "execution_count": 91,
   "metadata": {},
   "outputs": [
    {
     "name": "stdout",
     "output_type": "stream",
     "text": [
      "Accuracy = 39.34196709760982\n",
      "[[ 531   53   69   22   27   81  145   93  253   37]\n",
      " [   0  242   13    1    6   11    2   45    4   18]\n",
      " [ 148  380 1414  195   69  205  453  182  223   99]\n",
      " [ 114  225  124 1183   70  175   80  681  408  543]\n",
      " [ 171  174   26    8  976   11   45   43   72  129]\n",
      " [ 223  138  189  432  117 1315  265  136  440   49]\n",
      " [  60   39   62    4   25   44  911   12   70    7]\n",
      " [ 144  555   42   32  340   65   15  624   98  546]\n",
      " [  96  141   52  110  204   73   33  139  373  273]\n",
      " [ 513   53    8   13  166   20   51   45   59  299]]\n"
     ]
    }
   ],
   "source": [
    "loss_USPS,accuracy_USPS = model.evaluate(USPS_Data,USPS_target, verbose=False)\n",
    "print(\"Accuracy = \"+str(accuracy_USPS*100))\n",
    "result_usps= model.predict(USPS_Data)\n",
    "print(confusion_matrix(decode(result_usps), decode(USPS_target)))"
   ]
  },
  {
   "cell_type": "code",
   "execution_count": 111,
   "metadata": {},
   "outputs": [],
   "source": [
    "classifier2 = RandomForestClassifier(n_estimators=8)\n",
    "classifier2.fit(training_data1, training_target1)\n",
    "result_rf = classifier2.predict(testing_data1)"
   ]
  },
  {
   "cell_type": "code",
   "execution_count": 112,
   "metadata": {},
   "outputs": [
    {
     "name": "stdout",
     "output_type": "stream",
     "text": [
      "Accuracy = 94.17\n",
      "[[ 968    0   17    4    3    7   13    3    9    9]\n",
      " [   0 1123    2    2    3    1    4    8    6    5]\n",
      " [   1    2  979   18    5    4   10   27   15    3]\n",
      " [   2    2    7  940    2   40    1    7   15   13]\n",
      " [   1    0    3    1  930    5   10   10   12   29]\n",
      " [   1    2    1   19    1  808    9    2   10   11]\n",
      " [   4    4    4    0    5    6  909    0    4    2]\n",
      " [   0    2    7    9    0    3    0  951    9    7]\n",
      " [   3    0    9   12    5   11    2    0  889   10]\n",
      " [   0    0    3    5   28    7    0   20    5  920]]\n"
     ]
    }
   ],
   "source": [
    "print(\"Accuracy = \"+str(Get_Acc_new(result_rf,testing_target1)))\n",
    "print(confusion_matrix(result_rf,testing_target1))"
   ]
  },
  {
   "cell_type": "code",
   "execution_count": 113,
   "metadata": {},
   "outputs": [
    {
     "name": "stdout",
     "output_type": "stream",
     "text": [
      "Accuracy = 29.856492824641233\n",
      "[[568  63 231 141  54 162 357  69 171  78]\n",
      " [ 88 551 148  65 243  74  86 473 181 327]\n",
      " [295 133 919 212 120 205 307 275 210 309]\n",
      " [106 141 165 927  75 278 123 225 278 283]\n",
      " [345 108  84  97 812  97 159  76 164 247]\n",
      " [192  72 151 348 192 883 294 207 607 134]\n",
      " [143  48  76  29  68  90 500  43 116  33]\n",
      " [ 97 858 192 137 323 163 124 595 102 430]\n",
      " [ 22  16  18  16  52  22  18  18 126  69]\n",
      " [144  10  15  28  61  26  32  19  45  90]]\n"
     ]
    }
   ],
   "source": [
    "result_rf_usps = classifier2.predict(USPS_Data)\n",
    "print(\"Accuracy = \"+str(Get_Acc_new(result_rf_usps,USPS_Tar1)))\n",
    "print(confusion_matrix(result_rf_usps,USPS_Tar1))"
   ]
  },
  {
   "cell_type": "code",
   "execution_count": 19,
   "metadata": {},
   "outputs": [],
   "source": [
    "classifier1 = SVC(kernel='linear', C=2, gamma = 0.05)\n",
    "classifier1.fit(training_data1,training_target1)\n",
    "result_svc = classifier1.predict(testing_data1)"
   ]
  },
  {
   "cell_type": "code",
   "execution_count": 94,
   "metadata": {},
   "outputs": [
    {
     "name": "stdout",
     "output_type": "stream",
     "text": [
      "Accuracy = 93.64\n",
      "[[ 958    0    6    4    2   15   10    0   11    7]\n",
      " [   0 1117   11    2    1    7    3   10    6    7]\n",
      " [   5    4  960   19    9    4   11   20    7    2]\n",
      " [   1    4   13  944    0   39    1   10   24   13]\n",
      " [   1    0    3    3  944    5    5    5   10   33]\n",
      " [   3    1    1   13    0  787   13    2   22    3]\n",
      " [   8    2   12    1    5   11  912    0    8    0]\n",
      " [   1    1   10    7    1    1    1  960    9   22]\n",
      " [   1    6   14   14    2   19    2    4  869    9]\n",
      " [   2    0    2    3   18    4    0   17    8  913]]\n"
     ]
    }
   ],
   "source": [
    "print(\"Accuracy = \"+str(Get_Acc_new(result_svc,testing_target1)))\n",
    "print(confusion_matrix(result_svc,testing_target1))"
   ]
  },
  {
   "cell_type": "code",
   "execution_count": 99,
   "metadata": {},
   "outputs": [
    {
     "name": "stdout",
     "output_type": "stream",
     "text": [
      "Accuracy = 28.536426821341067\n",
      "[[ 358   59  132   65   28   46  152   20  121   13]\n",
      " [   1  282   79   52   27   26   17   71   17   35]\n",
      " [ 493  572 1256  364  214  682  916  190  278  200]\n",
      " [ 172  265  131  884   90  249   64  715  488  579]\n",
      " [ 239  240   35   14  820   45   81   61  123  166]\n",
      " [ 316  162  224  501  213  824  250  296  648  105]\n",
      " [  69   15   61    8    8   37  450   12   83    8]\n",
      " [ 166  339   48   43  456   38   38  518   68  587]\n",
      " [  11   44   21   50   80   36    2   84  154  146]\n",
      " [ 175   22   12   19   64   17   30   33   20  161]]\n"
     ]
    }
   ],
   "source": [
    "result_svc_usps = classifier1.predict(USPS_Data)\n",
    "print(\"Accuracy = \"+str(Get_Acc_new(result_svc_usps,USPS_Tar1)))\n",
    "print(confusion_matrix(result_svc_usps,USPS_Tar1))"
   ]
  },
  {
   "cell_type": "code",
   "execution_count": 100,
   "metadata": {},
   "outputs": [],
   "source": [
    "H1 = np.array(np.matrix(decode(MNIST_predictions)))\n",
    "H2 = np.array(np.matrix(decode(result)))\n",
    "H3 = np.array(np.matrix(result_rf))\n",
    "H4 = np.array(np.matrix(result_svc))\n",
    "M= np.concatenate((H1,H2))\n",
    "M1= np.concatenate((M,H3))\n",
    "M2 = np.concatenate((M1,H4))\n",
    "Matrix= np.array(M2.T)\n",
    "Matrix1 = [[0 for i in range(10)] for j in range(10000)]"
   ]
  },
  {
   "cell_type": "code",
   "execution_count": 101,
   "metadata": {},
   "outputs": [
    {
     "name": "stdout",
     "output_type": "stream",
     "text": [
      "[[0 0 0 ... 4 0 0]\n",
      " [0 0 4 ... 0 0 0]\n",
      " [0 4 0 ... 0 0 0]\n",
      " ...\n",
      " [0 0 0 ... 0 0 0]\n",
      " [0 0 0 ... 0 0 0]\n",
      " [0 0 0 ... 0 0 0]]\n"
     ]
    }
   ],
   "source": [
    "for i in range(10000):\n",
    "    for j in Matrix[i]:\n",
    "        Matrix1[i][j]= Matrix1[i][j]+1\n",
    "print(np.matrix(Matrix1))"
   ]
  },
  {
   "cell_type": "code",
   "execution_count": 102,
   "metadata": {},
   "outputs": [
    {
     "name": "stdout",
     "output_type": "stream",
     "text": [
      "[[ 971    0    9    3    2   11   10    2    9    9]\n",
      " [   0 1124    5    1    1    2    3   12    5    7]\n",
      " [   1    2  985   15    5    4    6   25    7    3]\n",
      " [   1    1    5  966    1   37    1    3   16   14]\n",
      " [   0    0    5    0  954    4    7    5    8   36]\n",
      " [   2    1    0   10    0  809   13    0   20    7]\n",
      " [   3    4    6    1    4    9  918    0    9    0]\n",
      " [   1    1    8    7    0    1    0  972    5   12]\n",
      " [   1    2    8    6    2   10    0    2  891    3]\n",
      " [   0    0    1    1   13    5    0    7    4  918]]\n",
      "Accuracy = 95.08\n"
     ]
    }
   ],
   "source": [
    "pos =[]\n",
    "for i in Matrix1:\n",
    "    pos.append(np.argmax(i))\n",
    "print(confusion_matrix(pos,testing_target1))\n",
    "print(\"Accuracy = \"+str(Get_Acc_new(pos,testing_target1)))"
   ]
  },
  {
   "cell_type": "code",
   "execution_count": 103,
   "metadata": {},
   "outputs": [
    {
     "name": "stdout",
     "output_type": "stream",
     "text": [
      "[[0 0 0 ... 0 0 1]\n",
      " [1 0 3 ... 0 0 0]\n",
      " [3 0 1 ... 0 0 0]\n",
      " ...\n",
      " [0 0 0 ... 0 0 0]\n",
      " [0 0 0 ... 0 0 0]\n",
      " [0 0 0 ... 0 0 0]]\n",
      "[[ 666  128  171   83   50 1999 2000 2000 2000 2000]\n",
      " [  16  371   47   18  118    0    0    0    0    0]\n",
      " [ 387  366 1405  235  109    0    0    0    0    0]\n",
      " [  93  265   94 1264   72    1    0    0    0    0]\n",
      " [ 238  205   31   10 1052    0    0    0    0    0]\n",
      " [ 166  104  127  300  139    0    0    0    0    0]\n",
      " [  56   23   43    5   12    0    0    0    0    0]\n",
      " [  83  452   61   29  241    0    0    0    0    0]\n",
      " [  27   76   15   42  140    0    0    0    0    0]\n",
      " [ 268   10    5   14   67    0    0    0    0    0]]\n",
      "Accuracy = 23.791189559477974\n"
     ]
    }
   ],
   "source": [
    "H5 = np.array(np.matrix(decode(USPS_predictions)))\n",
    "H6 = np.array(np.matrix(decode(result_usps)))\n",
    "H7 = np.array(np.matrix(result_rf_usps))\n",
    "H8 = np.array(np.matrix(result_svc_usps))\n",
    "M3 = np.concatenate((H5,H6))\n",
    "M4 = np.concatenate((M3,H7))\n",
    "M5 = np.concatenate((M4,H8))\n",
    "Matrix_usps= np.array(M5.T)\n",
    "Matrix1_usps = [[0 for i in range(10)] for j in range(19999)]\n",
    "for i in range(10000):\n",
    "    for j in Matrix_usps[i]:\n",
    "        Matrix1_usps[i][j]= Matrix1_usps[i][j]+1\n",
    "print(np.matrix(Matrix1_usps))\n",
    "pos_usps =[]\n",
    "for i in Matrix1_usps:\n",
    "    pos_usps.append(np.argmax(i))\n",
    "print(confusion_matrix(pos_usps,USPS_Tar1))\n",
    "print(\"Accuracy = \"+str(Get_Acc_new(pos_usps,USPS_Tar1)))"
   ]
  },
  {
   "cell_type": "code",
   "execution_count": null,
   "metadata": {},
   "outputs": [],
   "source": []
  }
 ],
 "metadata": {
  "kernelspec": {
   "display_name": "Python 3",
   "language": "python",
   "name": "python3"
  },
  "language_info": {
   "codemirror_mode": {
    "name": "ipython",
    "version": 3
   },
   "file_extension": ".py",
   "mimetype": "text/x-python",
   "name": "python",
   "nbconvert_exporter": "python",
   "pygments_lexer": "ipython3",
   "version": "3.7.3"
  }
 },
 "nbformat": 4,
 "nbformat_minor": 2
}
