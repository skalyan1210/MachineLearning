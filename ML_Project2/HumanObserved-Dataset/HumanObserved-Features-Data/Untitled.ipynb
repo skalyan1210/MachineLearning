{
 "cells": [
  {
   "cell_type": "code",
   "execution_count": 9,
   "metadata": {},
   "outputs": [],
   "source": [
    "from sklearn.cluster import KMeans\n",
    "import numpy as np\n",
    "import csv\n",
    "import math\n",
    "import matplotlib.pyplot\n",
    "from matplotlib import pyplot as plt\n",
    "IsSynthetic = False"
   ]
  },
  {
   "cell_type": "code",
   "execution_count": 10,
   "metadata": {},
   "outputs": [],
   "source": [
    "def GenerateRawData(filePath):  \n",
    "    dataMatrix = [] \n",
    "    with open(filePath, 'rU') as fi:\n",
    "        reader = csv.reader(fi)\n",
    "        for row in reader:\n",
    "            dataRow = []\n",
    "            for column in row:\n",
    "                dataRow.append(column)\n",
    "            dataMatrix.append(dataRow)   \n",
    "    return dataMatrix"
   ]
  },
  {
   "cell_type": "code",
   "execution_count": 11,
   "metadata": {},
   "outputs": [
    {
     "name": "stderr",
     "output_type": "stream",
     "text": [
      "/anaconda3/lib/python3.6/site-packages/ipykernel_launcher.py:3: DeprecationWarning: 'U' mode is deprecated\n",
      "  This is separate from the ipykernel package so we can avoid doing imports until\n"
     ]
    },
    {
     "name": "stdout",
     "output_type": "stream",
     "text": [
      "['', 'img_id', 'f1', 'f2', 'f3', 'f4', 'f5', 'f6', 'f7', 'f8', 'f9']\n"
     ]
    }
   ],
   "source": [
    "Human_Observed   = GenerateRawData('HumanObserved-Features-Data.csv')\n",
    "same_pairs = GenerateRawData('same_pairs.csv')\n",
    "diff_pairs = GenerateRawData('diffn_pairs.csv')\n",
    "print(Human_Observed[0])"
   ]
  },
  {
   "cell_type": "code",
   "execution_count": 12,
   "metadata": {},
   "outputs": [
    {
     "name": "stdout",
     "output_type": "stream",
     "text": [
      "792\n"
     ]
    }
   ],
   "source": [
    "print(len(same_pairs))"
   ]
  },
  {
   "cell_type": "code",
   "execution_count": 13,
   "metadata": {},
   "outputs": [
    {
     "name": "stdout",
     "output_type": "stream",
     "text": [
      "293033\n"
     ]
    }
   ],
   "source": [
    "print(len(diff_pairs))"
   ]
  },
  {
   "cell_type": "code",
   "execution_count": 14,
   "metadata": {},
   "outputs": [
    {
     "name": "stdout",
     "output_type": "stream",
     "text": [
      "[['0359a' '2' '1' ... '0' '2' '2']\n",
      " ['0577a' '2' '1' ... '0' '1' '2']\n",
      " ['1120a' '2' '1' ... '0' '2' '2']\n",
      " ...\n",
      " ['0416a' '1' '1' ... '1' '1' '1']\n",
      " ['1224b' '2' '4' ... '3' '4' '2']\n",
      " ['0302b' '2' '2' ... '3' '4' '2']]\n"
     ]
    }
   ],
   "source": [
    "Human_Observed1= np.delete(Human_Observed,[0],axis =1)\n",
    "Human_Observed1= np.delete(Human_Observed1,[0],axis =0)\n",
    "same_pairs= np.delete(same_pairs,[0],axis =0)\n",
    "diff_pairs = np.delete(diff_pairs,[0],axis =0)\n",
    "print(Human_Observed1)"
   ]
  },
  {
   "cell_type": "code",
   "execution_count": 33,
   "metadata": {},
   "outputs": [
    {
     "name": "stdout",
     "output_type": "stream",
     "text": [
      "21\n"
     ]
    }
   ],
   "source": [
    "Human_Observed_concatinated = [ [0 for j in range(len(same_pairs[0])+2 *(len(Human_Observed1[0])-1))] for i in range(2*len(same_pairs))]\n",
    "print(len(Human_Observed_concatinated[0]))\n",
    "for i in range(len(same_pairs)):\n",
    "    for j in range(3):\n",
    "            Human_Observed_concatinated[i][j]= same_pairs[i][j]\n",
    "for i in range(len(same_pairs)):\n",
    "    for j in range(3):\n",
    "            Human_Observed_concatinated[i+len(same_pairs)][j]= diff_pairs[i][j]\n",
    "for i in range(len(Human_Observed1)):\n",
    "    for j in range(len(Human_Observed_concatinated)):\n",
    "        for k in range(1,10):\n",
    "            if (Human_Observed1[i][0] == Human_Observed_concatinated[j][0]):\n",
    "                Human_Observed_concatinated[j][k+2] = float(Human_Observed1[i][k])\n",
    "            if (Human_Observed1[i][0] == Human_Observed_concatinated[j][1]):\n",
    "                Human_Observed_concatinated[j][k+11] = float(Human_Observed1[i][k])\n",
    "for i in range(len(Human_Observed_concatinated)):\n",
    "       for j in range(3):\n",
    "            if j==2:\n",
    "                Human_Observed_concatinated[i][j]= float(Human_Observed_concatinated[i][j])\n",
    "            else:\n",
    "                Human_Observed_concatinated[i][j]= Human_Observed_concatinated[i][j]\n",
    "\n"
   ]
  },
  {
   "cell_type": "code",
   "execution_count": 34,
   "metadata": {},
   "outputs": [
    {
     "name": "stdout",
     "output_type": "stream",
     "text": [
      "['0359a', '0359b', 1.0, 2.0, 1.0, 1.0, 0.0, 2.0, 2.0, 0.0, 2.0, 2.0, 3.0, 2.0, 1.0, 0.0, 2.0, 2.0, 3.0, 0.0, 2.0]\n"
     ]
    }
   ],
   "source": [
    "print(Human_Observed_concatinated[0])"
   ]
  },
  {
   "cell_type": "code",
   "execution_count": 35,
   "metadata": {},
   "outputs": [
    {
     "name": "stdout",
     "output_type": "stream",
     "text": [
      "['0359a', '0359b', 1.0, 1.0, 1.0, 0.0, 0.0, 0.0, 0.0, 3.0, 2.0, 0.0]\n"
     ]
    }
   ],
   "source": [
    "Human_Observed_subtracted = [ [ 0 for x in range(len(same_pairs[0])+len(Human_Observed1[0])-1)] for y in range(len(Human_Observed_concatinated))]\n",
    "for i in range(len(Human_Observed_concatinated)):\n",
    "    for j in range(3):\n",
    "            Human_Observed_subtracted[i][j]= Human_Observed_concatinated[i][j]\n",
    "for i in range(len(Human_Observed_concatinated)):\n",
    "    for j in range(3,len(s1[0])):\n",
    "        d= np.abs(float(Human_Observed_concatinated[i][j])-float(Human_Observed_concatinated[i][j+9]))\n",
    "        Human_Observed_subtracted[i][j] = d\n",
    "print(Human_Observed_subtracted[0])"
   ]
  },
  {
   "cell_type": "code",
   "execution_count": null,
   "metadata": {},
   "outputs": [],
   "source": []
  },
  {
   "cell_type": "code",
   "execution_count": null,
   "metadata": {},
   "outputs": [],
   "source": []
  }
 ],
 "metadata": {
  "kernelspec": {
   "display_name": "Python 3",
   "language": "python",
   "name": "python3"
  },
  "language_info": {
   "codemirror_mode": {
    "name": "ipython",
    "version": 3
   },
   "file_extension": ".py",
   "mimetype": "text/x-python",
   "name": "python",
   "nbconvert_exporter": "python",
   "pygments_lexer": "ipython3",
   "version": "3.6.5"
  }
 },
 "nbformat": 4,
 "nbformat_minor": 2
}
